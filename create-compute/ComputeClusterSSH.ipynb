{
 "cells": [
  {
   "cell_type": "markdown",
   "metadata": {},
   "source": [
    "## Create compute cluster with SSH (CPU)"
   ]
  },
  {
   "cell_type": "code",
   "execution_count": 8,
   "metadata": {},
   "outputs": [],
   "source": [
    "from azureml.core import Workspace\n",
    "from azureml.core.compute import AmlCompute, ComputeTarget\n",
    "\n",
    "workspace = Workspace.from_config()\n",
    "\n",
    "cpu_cluster_name = 'cpu-cluster-ssh'\n",
    "cpu_compute_config = AmlCompute.provisioning_configuration(vm_size='STANDARD_D3_V2',\n",
    "                                                           idle_seconds_before_scaledown=1200,\n",
    "                                                           min_nodes=0,\n",
    "                                                           max_nodes=2,\n",
    "                                                           admin_username='cim',\n",
    "                                                           admin_user_password='Cim_12345',\n",
    "                                                           admin_user_ssh_key='<PUBLIC KEY HERE>')\n",
    "\n",
    "cpu_compute_target = ComputeTarget.create(workspace, cpu_cluster_name, cpu_compute_config)"
   ]
  },
  {
   "cell_type": "markdown",
   "metadata": {},
   "source": [
    "## Create compute cluster with SSH (GPU)"
   ]
  },
  {
   "cell_type": "code",
   "execution_count": 6,
   "metadata": {},
   "outputs": [],
   "source": [
    "from azureml.core import Workspace\n",
    "from azureml.core.compute import AmlCompute, ComputeTarget\n",
    "\n",
    "workspace = Workspace.from_config()\n",
    "\n",
    "gpu_cluster_name = 'gpu-cluster-ssh'\n",
    "gpu_compute_config = AmlCompute.provisioning_configuration(vm_size='STANDARD_NC6',\n",
    "                                                           idle_seconds_before_scaledown=1200,\n",
    "                                                           min_nodes=0,\n",
    "                                                           max_nodes=2,\n",
    "                                                           admin_username='cim',\n",
    "                                                           admin_user_password='Cim_12345',\n",
    "                                                           admin_user_ssh_key='<PUBLIC KEY HERE>')\n",
    "\n",
    "gpu_compute_target = ComputeTarget.create(workspace, gpu_cluster_name, gpu_compute_config)"
   ]
  }
 ],
 "metadata": {
  "kernelspec": {
   "display_name": "Python 3",
   "language": "python",
   "name": "python3"
  },
  "language_info": {
   "codemirror_mode": {
    "name": "ipython",
    "version": 3
   },
   "file_extension": ".py",
   "mimetype": "text/x-python",
   "name": "python",
   "nbconvert_exporter": "python",
   "pygments_lexer": "ipython3",
   "version": "3.7.7"
  }
 },
 "nbformat": 4,
 "nbformat_minor": 4
}
