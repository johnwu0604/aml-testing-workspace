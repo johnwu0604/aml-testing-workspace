{
 "cells": [
  {
   "cell_type": "markdown",
   "metadata": {},
   "source": [
    "## Create a tabular dataset\n",
    "This dataset comes in tabular CSV form and contains data for employee attrition at IBM."
   ]
  },
  {
   "cell_type": "code",
   "execution_count": null,
   "metadata": {},
   "outputs": [],
   "source": [
    "import os\n",
    "from zipfile import ZipFile\n",
    "from azureml.core import Workspace\n",
    "from azureml.core import Dataset\n",
    "\n",
    "# Connect to workspace datastore\n",
    "workspace = Workspace.from_config()\n",
    "datastore = workspace.get_default_datastore()\n",
    "\n",
    "# Download data locally\n",
    "os.system('wget \"https://raw.githubusercontent.com/microsoft/bert-stack-overflow/master/4-Interpretibility/data/data.csv\"')\n",
    "\n",
    "# Upload data into the datastore \n",
    "datastore.upload_files(files=['data.csv'], target_path='attrition', overwrite=True, show_progress=True)\n",
    "\n",
    "# Register file as a dataset\n",
    "attrition_dataset = Dataset.Tabular.from_delimited_files(path=[(datastore, 'attrition/data.csv')])\n",
    "attrition_dataset = attrition_dataset.register(workspace=workspace,\n",
    "                                       name='IBM Attrition Dataset',\n",
    "                                       description='Dataset containing employee attrition data from IBM')"
   ]
  }
 ],
 "metadata": {
  "kernelspec": {
   "display_name": "Python 3",
   "language": "python",
   "name": "python3"
  },
  "language_info": {
   "codemirror_mode": {
    "name": "ipython",
    "version": 3
   },
   "file_extension": ".py",
   "mimetype": "text/x-python",
   "name": "python",
   "nbconvert_exporter": "python",
   "pygments_lexer": "ipython3",
   "version": "3.7.7"
  }
 },
 "nbformat": 4,
 "nbformat_minor": 4
}
